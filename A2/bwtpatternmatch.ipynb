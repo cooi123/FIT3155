{
 "cells": [
  {
   "cell_type": "code",
   "execution_count": 1,
   "metadata": {},
   "outputs": [],
   "source": [
    "def countingSort(input:str, minChar = '$', maxChar = '~'):\n",
    "    minCharIndex = ord(minChar)\n",
    "    maxCharIndex = ord(maxChar)\n",
    "    alphabetSize = maxCharIndex-minCharIndex+1\n",
    "    count = alphabetSize*[0]\n",
    "    for char in input:\n",
    "        count[ord(char)-minCharIndex]+=1\n",
    "    rank = [0]*alphabetSize\n",
    "    sum =0\n",
    "    for i in range(alphabetSize):\n",
    "        sum += count[i]\n",
    "        if count[i] !=0:\n",
    "            rank[i] = sum\n",
    "        \n",
    "    sortedInput = len(input)*[None]\n",
    "    for char in input:\n",
    "        index = ord(char)-minCharIndex\n",
    "        rank[index]-=1\n",
    "        sortedInput[rank[index]] = char\n",
    "        \n",
    "    return sortedInput, rank, count"
   ]
  },
  {
   "cell_type": "code",
   "execution_count": 2,
   "metadata": {},
   "outputs": [],
   "source": [
    "def occurenceCountTable(input:str, minChar = '$', maxChar = '~'):\n",
    "    \"\"\"\n",
    "    input bwt\n",
    "    \"\"\"\n",
    "    alphabetSize = ord(maxChar)-ord(minChar)+1\n",
    "    occurenceCount = alphabetSize*[0]\n",
    "    occurenceCountTable =[]\n",
    "    for char in input:\n",
    "        index = ord(char)-ord(minChar)\n",
    "        occurenceCount[index]+=1\n",
    "        occurenceCountTable.append(occurenceCount.copy())\n",
    "    return occurenceCountTable\n",
    "def returnFoundRange(char,OCCTable, rank, sp, ep, minChar = '$', maxChar = '~', verbose=False):\n",
    "    charIndex = ord(char)-ord(minChar)\n",
    "    if verbose: print(f'char: {char}, rank {rank[charIndex]}, occurance count {OCCTable[sp-1][charIndex]}')\n",
    "    sp = rank[charIndex]+OCCTable[sp-1][charIndex] if sp!=0 else rank[charIndex]\n",
    "    ep = rank[charIndex]+OCCTable[ep][charIndex]-1\n",
    "    return sp, ep"
   ]
  },
  {
   "cell_type": "code",
   "execution_count": 11,
   "metadata": {},
   "outputs": [],
   "source": [
    "def exactPatternMatching1(bwt:str, pattern:str,verbose= False):\n",
    "    #convert to sorted suffix array by reverse the index of bwt\n",
    "    sortedBwt, rank, count = countingSort(bwt)\n",
    "    occurenceCount = occurenceCountTable(bwt)\n",
    "\n",
    "    #pattern matching\n",
    "    sp = 0\n",
    "    ep = len(bwt)-1\n",
    "    patternIndex = len(pattern)-1\n",
    "    while sp <= ep and patternIndex:\n",
    "        char = pattern[patternIndex]\n",
    "        sp, ep = returnFoundRange(char, occurenceCount, rank, sp, ep, verbose=True)\n",
    "        if verbose: print(f'sp {sp}, ep {ep}')\n",
    "        patternIndex-=1\n",
    "        \n",
    "    return sp,ep if patternIndex ==0 else None"
   ]
  },
  {
   "cell_type": "code",
   "execution_count": 12,
   "metadata": {},
   "outputs": [
    {
     "data": {
      "text/plain": [
       "(0, 6)"
      ]
     },
     "execution_count": 12,
     "metadata": {},
     "output_type": "execute_result"
    }
   ],
   "source": [
    "bwt = 'lo$oogg'\n",
    "exactPatternMatching1(bwt,'n', True)\n",
    "\n"
   ]
  },
  {
   "cell_type": "code",
   "execution_count": null,
   "metadata": {},
   "outputs": [],
   "source": []
  }
 ],
 "metadata": {
  "kernelspec": {
   "display_name": "Python 3",
   "language": "python",
   "name": "python3"
  },
  "language_info": {
   "codemirror_mode": {
    "name": "ipython",
    "version": 3
   },
   "file_extension": ".py",
   "mimetype": "text/x-python",
   "name": "python",
   "nbconvert_exporter": "python",
   "pygments_lexer": "ipython3",
   "version": "3.10.6"
  },
  "orig_nbformat": 4
 },
 "nbformat": 4,
 "nbformat_minor": 2
}
