{
 "cells": [
  {
   "cell_type": "code",
   "execution_count": 1,
   "metadata": {},
   "outputs": [],
   "source": [
    "def gusfield_z_algorithm(string):\n",
    "    \"\"\"Z algorithm from Gusfield's book.\n",
    "    \"\"\"\n",
    "    n = len(string)\n",
    "    z = [0] * n\n",
    "    z[0] = n\n",
    "    i = 1\n",
    "    j = 0\n",
    "    while i < n:\n",
    "        while i + j < n and string[j] == string[i + j]:\n",
    "            j += 1\n",
    "        z[i] = j\n",
    "        if j == 0:\n",
    "            i += 1\n",
    "            continue\n",
    "        k = 1\n",
    "        while i + k < n and k + z[k] < j:\n",
    "            z[i + k] = z[k]\n",
    "            k += 1\n",
    "        i += k\n",
    "        j -= k\n",
    "    return z"
   ]
  },
  {
   "cell_type": "code",
   "execution_count": 2,
   "metadata": {},
   "outputs": [
    {
     "data": {
      "text/plain": [
       "[18, 1, 0, 0, 3, 1, 0, 0, 7, 1, 0, 0, 5, 1, 0, 0, 1, 0]"
      ]
     },
     "execution_count": 2,
     "metadata": {},
     "output_type": "execute_result"
    }
   ],
   "source": [
    "str = \"aabcaabxaabcaabcay\"\n",
    "gusfield_z_algorithm(str)"
   ]
  },
  {
   "cell_type": "code",
   "execution_count": 18,
   "metadata": {},
   "outputs": [],
   "source": [
    "v1Red = 0\n",
    "v2Red=1\n",
    "v3Red=0\n",
    "v4Red=0\n",
    "\n",
    "v1White =1\n",
    "v2White=0\n",
    "v3White=0\n",
    "v4White=1\n",
    "\n",
    "\n",
    "v1Black=0\n",
    "v2Black=0\n",
    "v3Black=1\n",
    "v4Black=0\n",
    "#w,r,b,w\n",
    "#w,b,r,w\n",
    "#r, w,b,r\n"
   ]
  },
  {
   "cell_type": "code",
   "execution_count": 2,
   "metadata": {},
   "outputs": [],
   "source": [
    "#not working\n",
    "v1Red=1\n",
    "v2Red=0\n",
    "v3Red=0\n",
    "v4Red=1\n",
    "\n",
    "v1White=0\n",
    "v2White=1\n",
    "v3White=1\n",
    "v4White=0\n",
    "\n",
    "v1Black=0\n",
    "v2Black=1\n",
    "v3Black=0\n",
    "v4Black=0\n"
   ]
  },
  {
   "cell_type": "code",
   "execution_count": 3,
   "metadata": {},
   "outputs": [
    {
     "data": {
      "text/plain": [
       "'(v1Red or v1Black or v1White) and (~v1Red or ~v1Black) and (~v1Red or ~v1White) and (~v1Black or ~v1White) and(~v1Red or ~v2Red) and (~v1Black or ~v2Black) and (~v1White or ~v2White) and (~v1Red or ~v3Red) and (~v1Black or ~v3Black) and (~v1White or ~v3White) and (v2Red or v2Black or v2White) and (~v2Red or ~v2Black) and (~v2Red or ~v2White) and (~v2Black or ~v2White) and(~v2Red or ~v3Red) and (~v2Black or ~v3Black) and (~v2White or ~v3White) and(~v2Red or ~v4Red) and (~v2Black or ~v4Black) and (~v2White or ~v4White) and (v3Red or v3Black or v3White) and (~v3Red or ~v3Black) and (~v3Red or ~v3White) and (~v3Black or ~v3White) and (~v3Red or ~v4Red) and (~v3Black or ~v4Black) and (~v3White or ~v4White) and (v4Red or v4Black or v4White) and (~v4Red or ~v4Black) and (~v4Red or ~v4White) and (~v4Black or ~v4White)'"
      ]
     },
     "execution_count": 3,
     "metadata": {},
     "output_type": "execute_result"
    }
   ],
   "source": [
    "v = \"(v1Red | v1Black | v1White) & (~v1Red | ~v1Black) & (~v1Red | ~v1White) & (~v1Black | ~v1White) &(~v1Red | ~v2Red) & (~v1Black | ~v2Black) & (~v1White | ~v2White) & (~v1Red | ~v3Red) & (~v1Black | ~v3Black) & (~v1White | ~v3White) & (v2Red | v2Black | v2White) & (~v2Red | ~v2Black) & (~v2Red | ~v2White) & (~v2Black | ~v2White) &(~v2Red | ~v3Red) & (~v2Black | ~v3Black) & (~v2White | ~v3White) &(~v2Red | ~v4Red) & (~v2Black | ~v4Black) & (~v2White | ~v4White) & (v3Red | v3Black | v3White) & (~v3Red | ~v3Black) & (~v3Red | ~v3White) & (~v3Black | ~v3White) & (~v3Red | ~v4Red) & (~v3Black | ~v4Black) & (~v3White | ~v4White) & (v4Red | v4Black | v4White) & (~v4Red | ~v4Black) & (~v4Red | ~v4White) & (~v4Black | ~v4White)\"\n",
    "v= v.replace(\"|\" , \"or\" )\n",
    "v= v.replace(\"&\" , \"and\" )\n",
    "v"
   ]
  },
  {
   "cell_type": "code",
   "execution_count": 4,
   "metadata": {},
   "outputs": [
    {
     "data": {
      "text/plain": [
       "'(~v1Red or ~v2Red) and (~v1White or ~v2White) and(~v1Black or ~v2Black) and (~v1Red or ~v3Red) and (~v1White or ~v3White) and(~v1Black or ~v3Black) and (~v2Red or ~v3Red) and (~v2White or ~v3White) and(~v2Black or ~v3Black) and (~v2Red or ~v4Red) and (~v2White or ~v4White) and(~v2Black or ~v4Black) and (~v3Red or ~v4Red) and (~v3White or ~v4White) and(~v3Black or ~v4Black) and  (v1Red or v1Black or v1White) and (~v1Red or ~v1Black) and (~v1Red or ~v1White) and (~v1White or ~v1Black)and (v2Red or v2Black or v2White) and (~v2Red or ~v2Black) and (~v2Red or ~v2White) and (~v2White or ~v2Black)and (v3Red or v3Black or v3White) and (~v3Red or ~v3Black) and (~v3Red or ~v3White) and (~v3White or ~v3Black)and (v4Red or v4Black or v4White) and (~v4Red or ~v4Black) and (~v4Red or ~v4White) and (~v4White or ~v4Black)'"
      ]
     },
     "execution_count": 4,
     "metadata": {},
     "output_type": "execute_result"
    }
   ],
   "source": [
    "v =\"(~v1Red | ~v2Red) & (~v1White | ~v2White) &(~v1Black | ~v2Black) & (~v1Red | ~v3Red) & (~v1White | ~v3White) &(~v1Black | ~v3Black) & (~v2Red | ~v3Red) & (~v2White | ~v3White) &(~v2Black | ~v3Black) & (~v2Red | ~v4Red) & (~v2White | ~v4White) &(~v2Black | ~v4Black) & (~v3Red | ~v4Red) & (~v3White | ~v4White) &(~v3Black | ~v4Black) &  (v1Red | v1Black | v1White) & (~v1Red | ~v1Black) & (~v1Red | ~v1White) & (~v1White | ~v1Black)& (v2Red | v2Black | v2White) & (~v2Red | ~v2Black) & (~v2Red | ~v2White) & (~v2White | ~v2Black)& (v3Red | v3Black | v3White) & (~v3Red | ~v3Black) & (~v3Red | ~v3White) & (~v3White | ~v3Black)& (v4Red | v4Black | v4White) & (~v4Red | ~v4Black) & (~v4Red | ~v4White) & (~v4White | ~v4Black)\"\n",
    "v= v.replace(\"|\" , \"or\")\n",
    "v= v.replace(\"&\" , \"and\")\n",
    "v"
   ]
  },
  {
   "cell_type": "code",
   "execution_count": 1,
   "metadata": {},
   "outputs": [],
   "source": [
    "a= [(1,2),(2,5)]\n",
    "b=(3,4)\n",
    "\n",
    "\n"
   ]
  },
  {
   "cell_type": "code",
   "execution_count": 2,
   "metadata": {},
   "outputs": [
    {
     "ename": "TypeError",
     "evalue": "unsupported operand type(s) for -: 'tuple' and 'tuple'",
     "output_type": "error",
     "traceback": [
      "\u001b[1;31m---------------------------------------------------------------------------\u001b[0m",
      "\u001b[1;31mTypeError\u001b[0m                                 Traceback (most recent call last)",
      "Cell \u001b[1;32mIn[2], line 1\u001b[0m\n\u001b[1;32m----> 1\u001b[0m a\u001b[39m-\u001b[39;49mb\n",
      "\u001b[1;31mTypeError\u001b[0m: unsupported operand type(s) for -: 'tuple' and 'tuple'"
     ]
    }
   ],
   "source": [
    "a-b"
   ]
  },
  {
   "cell_type": "code",
   "execution_count": null,
   "metadata": {},
   "outputs": [],
   "source": []
  }
 ],
 "metadata": {
  "kernelspec": {
   "display_name": "Python 3",
   "language": "python",
   "name": "python3"
  },
  "language_info": {
   "codemirror_mode": {
    "name": "ipython",
    "version": 3
   },
   "file_extension": ".py",
   "mimetype": "text/x-python",
   "name": "python",
   "nbconvert_exporter": "python",
   "pygments_lexer": "ipython3",
   "version": "3.10.6"
  },
  "orig_nbformat": 4
 },
 "nbformat": 4,
 "nbformat_minor": 2
}
