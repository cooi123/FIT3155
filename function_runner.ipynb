{
 "cells": [
  {
   "cell_type": "code",
   "execution_count": null,
   "metadata": {},
   "outputs": [],
   "source": [
    "\n",
    "from stricterBM import bad_char_pre, good_suffix_table_pre, matched_prefix_pre, boyer_moore\n",
    "s = \"aaaaaabcabcaacaaaaaa\"\n",
    "p= 'bcabcaaca'\n",
    "val, bad_char, good_suf, match=boyer_moore(s, p,min_alpha=\"!\", max_alpha=\"~\" ,verbose=True)\n",
    "val\n",
    "# string=\"xabxyabxyabxzabcbcbcaaaabbbccbadbcbcxacxcbbacababacabaaaabacabaafacababacaba\"\n",
    "# p = \"acxcbbacababacabaaaabacabaafacababacaba\"\n",
    "# val, bad_char, good_suf, match =boyer_moore(string, p,verbose=True)\n",
    "# val"
   ]
  },
  {
   "cell_type": "code",
   "execution_count": null,
   "metadata": {},
   "outputs": [],
   "source": [
    "s = \"aaaaaaaaaaaaaaaaaaaabbbbbbbbbbbaaaaaaaabaaaabbaabbaaabbbbbbbbbbbaaaaaaaaaaaaaaaabbbbbbbbbbbaaaaaaaabaaaabbaabbaaaaabaaaabbaabbaaa\""
   ]
  },
  {
   "cell_type": "code",
   "execution_count": null,
   "metadata": {},
   "outputs": [],
   "source": [
    "len(\"acababacaba\")-1-4\n",
    "val[6]"
   ]
  },
  {
   "cell_type": "code",
   "execution_count": null,
   "metadata": {},
   "outputs": [],
   "source": [
    "good_suffix_table_pre(\"aaaaaaaaaabbbbbbbbbbbaaaaaaaabaaaabbaabbaaa\", min_alpha=\"a\", max_alpha=\"z\")"
   ]
  },
  {
   "cell_type": "code",
   "execution_count": null,
   "metadata": {},
   "outputs": [],
   "source": [
    "s = \"acababeacaba\"\n",
    "p = \"acababacaba\"\n",
    "val, bad_char, good_suf, match=boyer_moore(s, p, min_alpha=\"a\", max_alpha=\"z\")\n",
    "bad_char"
   ]
  },
  {
   "cell_type": "code",
   "execution_count": null,
   "metadata": {},
   "outputs": [],
   "source": [
    "s = \"acxcbbacababacabaaaabacabaafacababacaba\"\n",
    "p = \"acababacaba\"\n",
    "val, bad_char, good_suf, match=boyer_moore(s, p, min_alpha=\"a\", max_alpha=\"z\")\n",
    "val"
   ]
  },
  {
   "cell_type": "code",
   "execution_count": null,
   "metadata": {},
   "outputs": [],
   "source": [
    "s = \"aaaaaabcabcaacaaaaaa\"\n",
    "p= 'bcabcaaca'\n",
    "val, bad_char, good_suf, match=boyer_moore(s, p,min_alpha=\"!\", max_alpha=\"~\")\n",
    "val\n",
    "val"
   ]
  },
  {
   "cell_type": "code",
   "execution_count": null,
   "metadata": {},
   "outputs": [],
   "source": [
    "s = \"PSPdPuuPSPdPddSPuPuudddPddPSdduPdudduPuPSuPuPuPdPSPSdPddPSSdPuSSSdSdudPddduduuSSdudSuuuPduSSPuPudSduuSuuPuuuudPduPPdSuPddPSduPduuuSuuSPdSPuPdSSSPduuPSSdudduSdSduSuPuPPudSdSdSSduuuduSddSSudSdPPuPdudPuSddPPdSudPSuuuuduSSddSSSSSddSduSdPSSSduudSdSuPPPPSuSuuuSdSddudPuPuPSdPuSddPddSudPudPdudPSdSuSuPduPdSSPPPPSPuPSdPuduuuSdPSddPuuuuduPdSSPuPuSSuSuddddPddPPdudPduuPPudSSdSSSSPSddPSPSdSSdPPSuduudPdduSuPudSSduSPSSdSddPPuPSPdSdduuPPduSduuSdPPPudPdPddduSdduSdPdSSdSSSdduuSuSdSSSSPPdSuSuSPSPdPddSPPdPudPuPPddPuSPSuPuSuuuPPuuPdddSuuSduuuSduSSdPuddPPPPPuSSSSdPPSudSdSSudddPPPuSuPSdPPPdSSdPuuPSuduSdSPSduuudSdSuSSSSdPSPuuPSdSdudSPPuduPuuPSuSSdSPduudSdSduduuPSuSSSuuuuSSSuuPuPSuduPdSSududSdddPudSPSuSSudPudPPPddPSPuPPduSduSuuduuuSuPSudPudPduuSSduSuuduPPuSPuuSudSPuSuudPPuSdudSdPPdSSPdPSuddSSuuPSuPuSPudPPSPdPduSdddSPSPuSuuPduuuudSuPSduSSuuSSPSSPuudddudPuSddPdPdPPddudPudPddPduSPPSdPdPuSSSddPPuSPSSSddSdPddPSuPuPuSduSuSPdSSudSPuPPudPPPPPdSPuPSdPuSuuuSdPSSdSPSduPuduPdduSdSSddddudPduSduuPddSddPduPPPSuduuuSddSddudPudSPudPPSSdSuPPuuSdPuSuuPSSdSPPSPduPudSuPPdPPSSSPuPSddudPPduuP\"\n",
    "p= \"PdSu\"\n",
    "val, bad_char, good_suf, match=boyer_moore(s, p,min_alpha=\"!\", max_alpha=\"~\",verbose=True)\n",
    "val"
   ]
  },
  {
   "cell_type": "code",
   "execution_count": null,
   "metadata": {},
   "outputs": [],
   "source": [
    "s=\"HEHHUsUHsEUEsUUUEsUEHUUHUEEsEHHEHHEsEEUEEUEHHEssHEEHsssUsEUsUEHsHUUHUsUsHUsEEEHssEsUHHUsEUHHUUEHHsEEUsEHEHUsHEHEUHHUUEHHHEUHsEHssHsHsUHssEUEHHEHssEUHUHssHHEssssUsHHsEHUHEssUUEUsUUsUUUEsHEHUUHssHssEEUHUHEUHHEUUEHUUEHEUHHssHsssUHEHHHHUHsUHsssHUUUHUsssssUsEEsHsEUHsHUHUEsHsUsEHEHEEHEUEssHUEEEEUUEssHsssHHUHUsEUHHsEsUUUEUEEEHsssHEHEsUHEEsHEUUHUUHsHHHsHUHUEUsHUUEUssHsUEUEUHEsHHUHEEUEHsHEssUsssHHEssHHsHssHHEUHHHHUsUHsHHEHEHHHHHHEssEEUHEUsHsEHsEsUEUsHUEUEEssEHEUUsEHUEUsHsEHEsHHsHsHHUsEUUHHUUEHsHsUsUUUUEEUHsUUHHUHssUHUHUUEHsEUHUEEHEUEHssHEUUHUEUEHHUUUHUHEHEUUHEHUsHEsEEUEUHEHUHUEsssUHUEUHHUHEUEUUUHHsEEssHUHEsEUHHHUHUHEEssUUHsHsHHUHUHEHUUEEUUUUsHEsHsEUssHHEEsHsHsEUEHsHHUHsUUHUEEHsUsUEHsHEsssHsHsHHUHsHsEUHUUsEHHUUUHUHUUEsEHssHUsHEHsHsUUUsEHHHsssEUsUEs\"\n",
    "p=\"sUHE\"\n",
    "val, bad_char, good_suf, match=boyer_moore(s, p,min_alpha=\"!\", max_alpha=\"~\", verbose=True)\n",
    "val"
   ]
  },
  {
   "cell_type": "code",
   "execution_count": null,
   "metadata": {},
   "outputs": [],
   "source": [
    "\n",
    "s = \"a\" * 10 + \"b\" * 10\n",
    "p = \"b\" * 10\n",
    "val, bad_char, good_suf, match=boyer_moore(s, p,min_alpha=\"!\", max_alpha=\"~\", verbose = True)\n",
    "val\n"
   ]
  },
  {
   "cell_type": "code",
   "execution_count": 1,
   "metadata": {},
   "outputs": [
    {
     "name": "stdout",
     "output_type": "stream",
     "text": [
      "bit matrix [bitarray('11111111111'), bitarray('11111111111'), bitarray('11111111111'), bitarray('11111111111'), bitarray('11111111111'), bitarray('11111111111'), bitarray('11111111111'), bitarray('11111111111'), bitarray('11111111111'), bitarray('11111111111'), bitarray('11111111111'), bitarray('11111111111'), bitarray('11111111111'), bitarray('11111111111'), bitarray('11111111111'), bitarray('11111111111'), bitarray('11111101111'), bitarray('11111011111'), bitarray('11110111111'), bitarray('11111111111'), bitarray('11111111111'), bitarray('11111111111'), bitarray('11111111111'), bitarray('11111111111'), bitarray('11111111111'), bitarray('11111111111'), bitarray('11111111111'), bitarray('11111111111'), bitarray('11111111111'), bitarray('11111111111'), bitarray('11111111111'), bitarray('11111111111'), bitarray('11111111111'), bitarray('11111111111'), bitarray('11111111111'), bitarray('11111111111'), bitarray('11111111111'), bitarray('11111111111'), bitarray('11111111111'), bitarray('11111111111'), bitarray('11111111111'), bitarray('11111111111'), bitarray('11111111111'), bitarray('11111111111'), bitarray('11111111111'), bitarray('11111111111'), bitarray('11111111111'), bitarray('11111111111'), bitarray('11111111111'), bitarray('11111111111'), bitarray('11111111111'), bitarray('11111111111'), bitarray('11111111111'), bitarray('11111111111'), bitarray('11111111111'), bitarray('11111111111'), bitarray('11111111111'), bitarray('11111111111'), bitarray('11111111111'), bitarray('11111111111'), bitarray('11111111111'), bitarray('11111111111'), bitarray('11101110111'), bitarray('11111111111'), bitarray('11111111110'), bitarray('11111111101'), bitarray('11111111011'), bitarray('11011111111'), bitarray('10111111111'), bitarray('01111111111'), bitarray('11111111111'), bitarray('11111111111'), bitarray('11111111111'), bitarray('11111111111'), bitarray('11111111111'), bitarray('11111111111'), bitarray('11111111111'), bitarray('11111111111'), bitarray('11111111111'), bitarray('11111111111'), bitarray('11111111111'), bitarray('11111111111'), bitarray('11111111111'), bitarray('11111111111'), bitarray('11111111111'), bitarray('11111111111'), bitarray('11111111111'), bitarray('11111111111'), bitarray('11111111111'), bitarray('11111111111'), bitarray('11111111111'), bitarray('11111111111'), bitarray('11111111111'), bitarray('11111111111')]\n",
      "bit vector 0 bitarray('11101111111')\n",
      "string comparing 23abc_123_d\n",
      "bit vector 1 bitarray('11011111111')\n",
      "string comparing 3abc_123_de\n",
      "bit vector 2 bitarray('10111111111')\n",
      "string comparing abc_123_def\n",
      "bit vector 3 bitarray('01111111111')\n"
     ]
    }
   ],
   "source": [
    "from bitwisepm import bitwisepm, bitarray_pre\n",
    "\n",
    "s = \"123abc_123_def\"\n",
    "p = \"abc_123_def\"\n",
    "val, mat = bitwisepm(s,p, min_alpha=\"!\", max_alpha=\"~\", verbose=True)"
   ]
  },
  {
   "cell_type": "code",
   "execution_count": 4,
   "metadata": {},
   "outputs": [
    {
     "data": {
      "text/plain": [
       "bitarray('11101110111')"
      ]
     },
     "execution_count": 4,
     "metadata": {},
     "output_type": "execute_result"
    }
   ],
   "source": [
    "mat[ord(\"_\")-ord(\"!\")]"
   ]
  },
  {
   "cell_type": "code",
   "execution_count": null,
   "metadata": {},
   "outputs": [],
   "source": [
    "p= \"abc_123_def_456_ghi_789_abc_123_def_456_ghi_789_abc_123_def_456_ghi_789_abc_123_def_456_ghi_789\"\n",
    "s= \"xyz_555_pqr_888_abc_123_abc_123_def_456_ghi_789_abc_123_def_456_ghi_789_abc_123_def_456_ghi_789_abc_123_def_456_ghi_789def_456_ghi_789_uvw_111_mno_444_abc_123_def_456_ghi_789_123_789abc_123_def_456_ghi_789_abc_123_def_456_ghi_789_abc_123_def_456_ghi_789_abc_123_def_456_ghi_789\"\n",
    "boyer_moore(s,p, min_alpha=\"!\", max_alpha=\"~\", verbose=True)\n"
   ]
  },
  {
   "cell_type": "code",
   "execution_count": null,
   "metadata": {},
   "outputs": [],
   "source": [
    "start=87\n",
    "m = len(p)\n",
    "end =181\n",
    "s[start:start+m]==p"
   ]
  },
  {
   "cell_type": "code",
   "execution_count": null,
   "metadata": {},
   "outputs": [],
   "source": [
    "109-22"
   ]
  },
  {
   "cell_type": "code",
   "execution_count": null,
   "metadata": {},
   "outputs": [],
   "source": [
    "110-24"
   ]
  },
  {
   "cell_type": "code",
   "execution_count": null,
   "metadata": {},
   "outputs": [],
   "source": [
    "p =\"acababacaba\"\n",
    "s=\"acxcbbacababacabaaaabacabaafacababacaba\""
   ]
  },
  {
   "cell_type": "code",
   "execution_count": null,
   "metadata": {},
   "outputs": [],
   "source": [
    "27 + (len(p)-1) - 4 -5"
   ]
  },
  {
   "cell_type": "code",
   "execution_count": null,
   "metadata": {},
   "outputs": [],
   "source": [
    "32+6"
   ]
  },
  {
   "cell_type": "code",
   "execution_count": null,
   "metadata": {},
   "outputs": [],
   "source": []
  }
 ],
 "metadata": {
  "kernelspec": {
   "display_name": "Python 3",
   "language": "python",
   "name": "python3"
  },
  "language_info": {
   "codemirror_mode": {
    "name": "ipython",
    "version": 3
   },
   "file_extension": ".py",
   "mimetype": "text/x-python",
   "name": "python",
   "nbconvert_exporter": "python",
   "pygments_lexer": "ipython3",
   "version": "3.10.6"
  },
  "orig_nbformat": 4
 },
 "nbformat": 4,
 "nbformat_minor": 2
}
