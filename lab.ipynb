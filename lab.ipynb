{
 "cells": [
  {
   "cell_type": "code",
   "execution_count": 6,
   "metadata": {},
   "outputs": [
    {
     "data": {
      "text/plain": [
       "0"
      ]
     },
     "execution_count": 6,
     "metadata": {},
     "output_type": "execute_result"
    }
   ],
   "source": [
    "string = \"aaaabbbbcababaaaa\"\n",
    "def manualsearch(str, k):\n",
    "    i = k\n",
    "    while i < len(str) and str[i] == str[i-k]:\n",
    "        i+=1\n",
    "    return i-k\n",
    "manualsearch(string,4)"
   ]
  },
  {
   "cell_type": "code",
   "execution_count": 7,
   "metadata": {},
   "outputs": [],
   "source": [
    "def z_algorithm(string, verbose=False):\n",
    "    n = len(string) \n",
    "    l =0\n",
    "    r = 0\n",
    "    z_values = [0]*n\n",
    "    z_values[0] = n\n",
    "    for k in range(1,n):\n",
    "        #case 1\n",
    "        if k > r:\n",
    "            z= manualsearch(string, k)\n",
    "            if z>0:\n",
    "                l=k\n",
    "                r=k+z-1\n",
    "        elif r >=k:\n",
    "            mirror = k-l \n",
    "            z_mirror= z_values[mirror]\n",
    "            \n",
    "            current_zbox_max = r- k +1\n",
    "            if verbose:print(f'current k={k}, mirror index={mirror}, mirror z box:{z_mirror}, current z box max: {current_zbox_max}')\n",
    "\n",
    "\n",
    "            if z_mirror< current_zbox_max:\n",
    "                z = z_mirror\n",
    "            elif z_mirror == current_zbox_max:\n",
    "                additional_match= manualsearch(string,r)\n",
    "                if verbose: print(f'additional match:{additional_match}')\n",
    "                if additional_match >0:\n",
    "                    z = z_mirror + additional_match-1\n",
    "                else:\n",
    "                    z =z_mirror\n",
    "                l = k\n",
    "                r = k+z -1\n",
    "            elif z_mirror > current_zbox_max:\n",
    "                z = r -k+1\n",
    "        if verbose: print(f' current k={k} left value:{l}, right most:{r}')\n",
    "        z_values[k] =z\n",
    "\n",
    "    return z_values\n",
    "\n",
    "    \n"
   ]
  },
  {
   "cell_type": "code",
   "execution_count": 204,
   "metadata": {},
   "outputs": [
    {
     "data": {
      "text/plain": [
       "([9, 0, 0, 0, 5, 0, 0, 0, 1], [9, 0, 0, 0, 5, 0, 0, 0, 1])"
      ]
     },
     "execution_count": 204,
     "metadata": {},
     "output_type": "execute_result"
    }
   ],
   "source": [
    "stra= \"abcdabcda\"\n",
    "z_algorithm(stra), fundamental_preprocess(stra[::-1])\n"
   ]
  },
  {
   "cell_type": "code",
   "execution_count": 9,
   "metadata": {},
   "outputs": [
    {
     "name": "stdout",
     "output_type": "stream",
     "text": [
      "[11, 0, 1, 0, 1, 0, 5, 0, 1, 0, 1]\n"
     ]
    },
    {
     "data": {
      "text/plain": [
       "[11, 5, 5, 5, 5, 5, 5, 1, 1, 1, 1]"
      ]
     },
     "execution_count": 9,
     "metadata": {},
     "output_type": "execute_result"
    }
   ],
   "source": [
    "def match_length(S: str, idx1: int, idx2: int) -> int:\n",
    "    \"\"\"Return the length of the match of the substrings of S beginning at idx1 and idx2.\"\"\"\n",
    "    if idx1 == idx2:\n",
    "        return len(S) - idx1\n",
    "    match_count = 0\n",
    "    while idx1 < len(S) and idx2 < len(S) and S[idx1] == S[idx2]:\n",
    "        match_count += 1\n",
    "        idx1 += 1\n",
    "        idx2 += 1\n",
    "    return match_count\n",
    "def fundamental_preprocess(S: str) -> list[int]:\n",
    "    \"\"\"Return Z, the Fundamental Preprocessing of S.\n",
    "\n",
    "    Z[i] is the length of the substring beginning at i which is also a prefix of S.\n",
    "    This pre-processing is done in O(n) time, where n is the length of S.\n",
    "    \"\"\"\n",
    "    if len(S) == 0:  # Handles case of empty string\n",
    "        return []\n",
    "    if len(S) == 1:  # Handles case of single-character string\n",
    "        return [1]\n",
    "    z = [0 for x in S]\n",
    "    z[0] = len(S)\n",
    "    z[1] = match_length(S, 0, 1)\n",
    "    for i in range(2, 1 + z[1]):  # Optimization from exercise 1-5\n",
    "        z[i] = z[1] - i + 1\n",
    "    # Defines lower and upper limits of z-box\n",
    "    l = 0\n",
    "    r = 0\n",
    "    for i in range(2 + z[1], len(S)):\n",
    "        if i <= r:  # i falls within existing z-box\n",
    "            k = i - l\n",
    "            b = z[k]\n",
    "            a = r - i + 1\n",
    "            if b < a:  # b ends within existing z-box\n",
    "                z[i] = b\n",
    "            else:  # b ends at or after the end of the z-box, we need to do an explicit match to the right of the z-box\n",
    "                z[i] = a + match_length(S, a, r + 1)\n",
    "                l = i\n",
    "                r = i + z[i] - 1\n",
    "        else:  # i does not reside within existing z-box\n",
    "            z[i] = match_length(S, 0, i)\n",
    "            if z[i] > 0:\n",
    "                l = i\n",
    "                r = i + z[i] - 1\n",
    "    return z\n",
    "def good_suffix_table(S: str) -> list[int]:\n",
    "    \"\"\"\n",
    "    Generates L for S, an array used in the implementation of the strong good-suffix rule.\n",
    "    L[i] = k, the largest position in S such that S[i:] (the suffix of S starting at i) matches\n",
    "    a suffix of S[:k] (a substring in S ending at k). Used in Boyer-Moore, L gives an amount to\n",
    "    shift P relative to T such that no instances of P in T are skipped and a suffix of P[:L[i]]\n",
    "    matches the substring of T matched by a suffix of P in the previous match attempt.\n",
    "    Specifically, if the mismatch took place at position i-1 in P, the shift magnitude is given\n",
    "    by the equation len(P) - L[i]. In the case that L[i] = -1, the full shift table is used.\n",
    "    Since only proper suffixes matter, L[0] = -1.\n",
    "    \"\"\"\n",
    "    L = [-1 for c in S]\n",
    "    N = fundamental_preprocess(S[::-1])  # S[::-1] reverses S\n",
    "    N.reverse()\n",
    "    for j in range(0, len(S) - 1):\n",
    "        i = len(S) - N[j]\n",
    "        if i != len(S):\n",
    "            L[i] = j\n",
    "    return L\n",
    "\n",
    "def full_shift_table(S: str) -> list[int]:\n",
    "    \"\"\"\n",
    "    Generates F for S, an array used in a special case of the good-suffix rule in the Boyer-Moore\n",
    "    string search algorithm. F[i] is the length of the longest suffix of S[i:] that is also a\n",
    "    prefix of S. In the cases it is used, the shift magnitude of the pattern P relative to the\n",
    "    text T is len(P) - F[i] for a mismatch occurring at i-1.\n",
    "    \"\"\"\n",
    "    F = [0 for c in S]\n",
    "    Z = fundamental_preprocess(S)\n",
    "    print(Z)\n",
    "    longest = 0\n",
    "    for i, zv in enumerate(reversed(Z)):\n",
    "        longest = max(zv, longest) if zv == i + 1 else longest\n",
    "        F[-i - 1] = longest\n",
    "    return F\n",
    "p = \"acababacaba\"\n",
    "full_shift_table(p)\n"
   ]
  },
  {
   "cell_type": "code",
   "execution_count": 161,
   "metadata": {},
   "outputs": [
    {
     "data": {
      "text/plain": [
       "([-1, -1, -1, -1, -1, -1, -1, -1, 6, 4, 8],\n",
       " [-1, -1, -1, -1, -1, -1, -1, -1, 6, 4, 8, 9])"
      ]
     },
     "execution_count": 161,
     "metadata": {},
     "output_type": "execute_result"
    }
   ],
   "source": [
    "stra= \"accbabacaba\"\n",
    "# z_algorithm(str, verbose=True),fundamental_preprocess(str)\n",
    "good_suffix_table(stra), good_suffix_pre(stra)"
   ]
  },
  {
   "cell_type": "code",
   "execution_count": 159,
   "metadata": {},
   "outputs": [],
   "source": [
    "def bad_char_table(S):\n",
    "    ALPHABET_SIZE = 26\n",
    "    R = [[-1] for a in range(ALPHABET_SIZE)]\n",
    "    alpha = [-1 for a in range(ALPHABET_SIZE)]\n",
    "    for i, c in enumerate(S):\n",
    "        \n",
    "        index = ord(c) - ord('a')\n",
    "\n",
    "        alpha[index] = i\n",
    "        for j, a in enumerate(alpha):\n",
    "            print(j,a)\n",
    "            R[j].append(a)\n",
    "    return R\n"
   ]
  },
  {
   "cell_type": "code",
   "execution_count": 3,
   "metadata": {},
   "outputs": [],
   "source": [
    "def bad_char_pre(p, verbose=False):\n",
    "    \"\"\"\n",
    "    Complexity O(M * n_char)\n",
    "    bad_char_matrix[i] = latest occurence of char i in p[0,i)\n",
    "    \"\"\"\n",
    "    n_char =26\n",
    "    bad_char_matrix = [[None] for _ in range(len(p))]\n",
    "    latest_bad_char = [-1] * n_char\n",
    "    for i in range(1,len(p)):\n",
    "        index = ord(p[i]) - ord('a')\n",
    "        latest_bad_char[index] = i\n",
    "        if verbose: print(latest_bad_char)\n",
    "        bad_char_matrix[i] = latest_bad_char.copy()\n",
    "    return bad_char_matrix\n",
    "\n",
    "\n",
    "def good_suffix_pre(p, verbose = False):\n",
    "    \"\"\"\n",
    "    find the right most of prefix with different preceding value\n",
    "    start from the end of the pattern\n",
    "    \"\"\"\n",
    "    reversed_p = p[::-1]\n",
    "    \n",
    "    z_values_reversed =z_algorithm(reversed_p)\n",
    "    if verbose: print(f'z suffix values{z_values_reversed} for {reversed_p}')\n",
    "    z_values = z_values_reversed[::-1]\n",
    "    if verbose: print(z_values)\n",
    "    good_suffix = [-1] * (len(p)+1)\n",
    "    for i in range(len(p)-1):\n",
    "        good_suf_val= len(p) - z_values[i]\n",
    "        if verbose: print(f'z value: {z_values[i]}, good suffix index is {good_suf_val}')\n",
    "        good_suffix[good_suf_val] = i\n",
    "        if verbose:print(f'good suffix array{good_suffix}')\n",
    "    return good_suffix\n",
    "\n",
    "def matched_prefix_pre(p, verbose = False):\n",
    "    \"\"\"\n",
    "    use z algorithm  z suffix go left to right , mp value fill right to left\n",
    "    \n",
    "    \"\"\"\n",
    "    mp =[0] * (len(p)+1)\n",
    "    reversed_p = p[::-1]\n",
    "    z_values_reversed =z_algorithm(reversed_p)[::-1]\n",
    "    max_pre =0\n",
    "    for i in range(len(p)-1,-1,-1):\n",
    "        start_index = len(p)-1 -i\n",
    "        if verbose:print(f'start index {start_index} z value {z_values_reversed[start_index]}')\n",
    "        max_pre =max(z_values_reversed[start_index], max_pre)\n",
    "        mp[i] = max_pre\n",
    "    return mp\n",
    "    "
   ]
  },
  {
   "cell_type": "code",
   "execution_count": 5,
   "metadata": {},
   "outputs": [
    {
     "data": {
      "text/plain": [
       "[4, 0, 2, 0]"
      ]
     },
     "execution_count": 5,
     "metadata": {},
     "output_type": "execute_result"
    }
   ],
   "source": [
    "def boyer_moore(str, pat, verbose = False):\n",
    "    \"\"\"\n",
    "    preprocessing time complexity: O(pattern)\n",
    "    Complexity: O(n + m)\n",
    "    bad_char = matrix of [length(str)][char]\n",
    "    good_suffix = [length(str)+1]\n",
    "    matched_prefix = [length(str)+1]\n",
    "    \"\"\"\n",
    "    bad_char = bad_char_pre(pat)\n",
    "    if verbose: print(bad_char, len(bad_char))\n",
    "    good_suffix = good_suffix_pre(pat)\n",
    "    if verbose: print(f'good suffix array{good_suffix}', len(good_suffix))\n",
    "    matched_prefix = matched_prefix_pre(pat)\n",
    "    if verbose: print(f'matched prefix array {matched_prefix}', len(matched_prefix))\n",
    "    m=len(pat)\n",
    "    s_i=len(pat)-1\n",
    "    p_i=len(pat)-1\n",
    "    skip_region_start =0\n",
    "    skip_region_end =0\n",
    "    matched_index =[]\n",
    "    while s_i <len(str):\n",
    "        bad_char_shift =1\n",
    "        good_suffix_shift =1\n",
    "        if verbose:print(f'current string index: {s_i}, current pattern index: {p_i}')\n",
    "        if str[s_i] == pat[p_i]:\n",
    "            #check skip region\n",
    "            #to do only skip if its not bad char\n",
    "            s_i-=1\n",
    "            p_i-=1\n",
    "            if p_i == skip_region_start:\n",
    "                p_i = skip_region_end-1\n",
    "                s_i -= (skip_region_start - skip_region_end+1)\n",
    "                skip_region_start =0\n",
    "                skip_region_end =0\n",
    "        else:\n",
    "            skip_region_start =0\n",
    "            skip_region_end =0\n",
    "            #missmatch\n",
    "            if verbose:print(f'mismatched char: {str[s_i], pat[p_i]} at index {s_i}')\n",
    "            \n",
    "            mismatched_char = ord(str[s_i]) -ord('a')\n",
    "            bad_char_index =bad_char[p_i][mismatched_char]\n",
    "            if bad_char_index == -1:\n",
    "                bad_char_shift = m-p_i\n",
    "            else:\n",
    "                bad_char_shift = p_i - bad_char_index\n",
    "\n",
    "            if verbose: print(f'bad char shift: {bad_char_shift}')\n",
    "\n",
    "            #good suffix. select the index where it matches\n",
    "            good_suffix_index = good_suffix[p_i+1]\n",
    "            print(good_suffix_index)\n",
    "            #no good suffix\n",
    "            if(good_suffix_index >0 and p_i <m-1):\n",
    "                good_suffix_shift = m-1 - good_suffix_index\n",
    "                skip_region_start = good_suffix_index\n",
    "                skip_region_end = good_suffix_index - (m -2- p_i)\n",
    "                if verbose: print(f'pattern index: {p_i}good suffix shift: {good_suffix_shift}, good suffix length: {m-1 -p_i} skip region: {skip_region_start} to {skip_region_end}')\n",
    "\n",
    "            elif (p_i < m-1):\n",
    "                good_suffix_shift = m-1 -matched_prefix[p_i]+1\n",
    "                skip_region_start = matched_prefix[p_i]\n",
    "                skip_region_end = 0\n",
    "                if verbose: print(f'pattern index: {p_i} matched prefix: {matched_prefix[p_i+1]}, skip region {skip_region_start} to {skip_region_end}')\n",
    "            if verbose: print(f'bad char shift: {bad_char_shift} good suffix shift: {good_suffix_shift}')\n",
    "\n",
    "            distance_to_shift = max(bad_char_shift, good_suffix_shift)\n",
    "            \n",
    "            #move s_i \n",
    "            s_i += (m-1-p_i) + distance_to_shift\n",
    "            #reset p_i to the end of string\n",
    "            p_i= m-1\n",
    "\n",
    "            if verbose:print(f'shift by {distance_to_shift}, new index: {s_i} compare with {str[s_i-m+1:s_i+1]}')\n",
    "\n",
    "        if p_i ==-1:\n",
    "            #fully matched\n",
    "            matched_index.append(s_i+1)\n",
    "            prev_matched_end = s_i + m\n",
    "            p_i = len(pat)-1\n",
    "            s_i+= matched_prefix[1] + m-1\n",
    "            if s_i == prev_matched_end:\n",
    "                s_i+=m-1\n",
    "            if verbose: print(f'fully matched, new index: {s_i}')\n",
    "    return matched_index\n",
    "good_suffix_pre(\"abab\")\n",
    "z_algorithm(\"baba\")"
   ]
  },
  {
   "cell_type": "code",
   "execution_count": 215,
   "metadata": {},
   "outputs": [
    {
     "name": "stdout",
     "output_type": "stream",
     "text": [
      "[[None], [-1, 1, -1, -1, -1, -1, -1, -1, -1, -1, -1, -1, -1, -1, -1, -1, -1, -1, -1, -1, -1, -1, -1, -1, -1, -1], [-1, 2, -1, -1, -1, -1, -1, -1, -1, -1, -1, -1, -1, -1, -1, -1, -1, -1, -1, -1, -1, -1, -1, -1, -1, -1], [-1, 3, -1, -1, -1, -1, -1, -1, -1, -1, -1, -1, -1, -1, -1, -1, -1, -1, -1, -1, -1, -1, -1, -1, -1, -1]] 4\n",
      "good suffix array[-1, 2, 1, 0, -1] 5\n",
      "matched prefix array [4, 3, 2, 1, 0] 5\n",
      "current string index: 3, current pattern index: 3\n",
      "mismatched char: ('a', 'b') at index 3\n",
      "bad char shift: 1\n",
      "-1\n",
      "bad char shift: 1 good suffix shift: 1\n",
      "shift by 1, new index: 4 compare with aaaa\n",
      "current string index: 4, current pattern index: 3\n",
      "mismatched char: ('a', 'b') at index 4\n",
      "bad char shift: 1\n",
      "-1\n",
      "bad char shift: 1 good suffix shift: 1\n",
      "shift by 1, new index: 5 compare with aaab\n",
      "current string index: 5, current pattern index: 3\n",
      "current string index: 4, current pattern index: 2\n",
      "mismatched char: ('a', 'b') at index 4\n",
      "bad char shift: 2\n",
      "0\n",
      "pattern index: 2 matched prefix: 1, skip region 2 to 0\n",
      "bad char shift: 2 good suffix shift: 2\n",
      "shift by 2, new index: 7 compare with abbb\n",
      "current string index: 7, current pattern index: 3\n",
      "fully matched, new index: 9\n",
      "current string index: 9, current pattern index: 3\n",
      "current string index: 8, current pattern index: 2\n",
      "current string index: 7, current pattern index: 1\n",
      "fully matched, new index: 11\n"
     ]
    },
    {
     "data": {
      "text/plain": [
       "[4, 6]"
      ]
     },
     "execution_count": 215,
     "metadata": {},
     "output_type": "execute_result"
    }
   ],
   "source": [
    "# s = \"acxcbbacababacabaaaabacabaafacababacaba\"\n",
    "# p = \"acababacaba\"\n",
    "s= \"a\" * 5 + \"b\" * 5\n",
    "p = \"b\" * 4\n",
    "boyer_moore(s, p, verbose=True)"
   ]
  },
  {
   "cell_type": "code",
   "execution_count": null,
   "metadata": {},
   "outputs": [],
   "source": [
    "s[6:6+11] ==p"
   ]
  },
  {
   "cell_type": "code",
   "execution_count": 4,
   "metadata": {},
   "outputs": [
    {
     "data": {
      "text/plain": [
       "bitarray('11')"
      ]
     },
     "execution_count": 4,
     "metadata": {},
     "output_type": "execute_result"
    }
   ],
   "source": [
    "from bitarray import bitarray\n",
    "a = bitarray([True, True])\n",
    "a\n"
   ]
  },
  {
   "cell_type": "code",
   "execution_count": 3,
   "metadata": {},
   "outputs": [],
   "source": [
    "def bitarray_pre(pat, no_char):\n",
    "    bitarray_matrix = [bitarray(0) for _ in range(no_char)]\n",
    "    for character in range(no_char):\n",
    "        matches = [chr(character+97) != char for char in pat]\n",
    "        bitarray_matrix[character] = bitarray(matches)\n",
    "    return bitarray_matrix    \n"
   ]
  },
  {
   "cell_type": "code",
   "execution_count": 23,
   "metadata": {},
   "outputs": [
    {
     "data": {
      "text/plain": [
       "[bitarray('10101'),\n",
       " bitarray('11111'),\n",
       " bitarray('11111'),\n",
       " bitarray('11010'),\n",
       " bitarray('11111'),\n",
       " bitarray('11111'),\n",
       " bitarray('11111'),\n",
       " bitarray('11111'),\n",
       " bitarray('11111'),\n",
       " bitarray('11111'),\n",
       " bitarray('11111'),\n",
       " bitarray('11111'),\n",
       " bitarray('11111'),\n",
       " bitarray('11111'),\n",
       " bitarray('11111'),\n",
       " bitarray('11111'),\n",
       " bitarray('11111'),\n",
       " bitarray('11111'),\n",
       " bitarray('11111'),\n",
       " bitarray('11111'),\n",
       " bitarray('11111'),\n",
       " bitarray('11111'),\n",
       " bitarray('11111'),\n",
       " bitarray('01111'),\n",
       " bitarray('11111'),\n",
       " bitarray('11111')]"
      ]
     },
     "execution_count": 23,
     "metadata": {},
     "output_type": "execute_result"
    }
   ],
   "source": [
    "pat = \"xadad\"\n",
    "bitarray_pre(pat, 26)"
   ]
  },
  {
   "cell_type": "code",
   "execution_count": 150,
   "metadata": {},
   "outputs": [
    {
     "data": {
      "text/plain": [
       "1"
      ]
     },
     "execution_count": 150,
     "metadata": {},
     "output_type": "execute_result"
    }
   ],
   "source": [
    "a= bitarray('110100') \n",
    "d = bitarray('11010')\n",
    "x = bitarray('01111')\n",
    "a[0]"
   ]
  },
  {
   "cell_type": "code",
   "execution_count": 35,
   "metadata": {},
   "outputs": [
    {
     "data": {
      "text/plain": [
       "bitarray('01111')"
      ]
     },
     "execution_count": 35,
     "metadata": {},
     "output_type": "execute_result"
    }
   ],
   "source": [
    "x | (a << 1) | (d<<2) | (a<<3) | (d<<4)\n"
   ]
  },
  {
   "cell_type": "code",
   "execution_count": 130,
   "metadata": {},
   "outputs": [],
   "source": [
    "from bitarray.util import ba2int\n",
    "\n",
    "def bitwisepm(string, pat, min_alpha=\"a\", max_alpha= \"z\",verbose= False):\n",
    "    matched_index= []\n",
    "    alpha_range = ord(max_alpha) - ord(min_alpha) +1\n",
    "    m = len(pat)\n",
    "    bit_matrix = bitarray_pre(pat[::-1], alpha_range)\n",
    "    bit_vector= bitarray('0' * m)\n",
    "    is_matched = lambda x: ba2int(x>> m-1) ==0\n",
    "    for i in range(m-1, -1, -1):\n",
    "        char_index = ord(string[i]) - ord(min_alpha)\n",
    "        bit_vector |= bit_matrix[char_index] << (m-1-i)\n",
    "    if is_matched(bit_vector):\n",
    "        matched_index.append(0)\n",
    "    if verbose: print(f'bit vector 0 {bit_vector}')\n",
    "    for i in range(1, len(string)-len(pat)+1):\n",
    "        if verbose:print(f'string comparing {string[i:i+len(pat)]}')\n",
    "        char_index = ord(string[i+m-1]) - ord('a')\n",
    "        bit_vector = (bit_vector << 1) | (bit_matrix[char_index]) \n",
    "        if verbose: print(f'bit vector {i} {bit_vector}')\n",
    "        if is_matched(bit_vector):\n",
    "            matched_index.append(i)\n",
    "    return matched_index\n"
   ]
  },
  {
   "cell_type": "code",
   "execution_count": 140,
   "metadata": {},
   "outputs": [
    {
     "ename": "IndexError",
     "evalue": "string index out of range",
     "output_type": "error",
     "traceback": [
      "\u001b[1;31m---------------------------------------------------------------------------\u001b[0m",
      "\u001b[1;31mIndexError\u001b[0m                                Traceback (most recent call last)",
      "Cell \u001b[1;32mIn[140], line 3\u001b[0m\n\u001b[0;32m      1\u001b[0m string \u001b[39m=\u001b[39m \u001b[39m\"\u001b[39m\u001b[39mabc\u001b[39m\u001b[39m\"\u001b[39m\n\u001b[0;32m      2\u001b[0m pat \u001b[39m=\u001b[39m \u001b[39m\"\u001b[39m\u001b[39mdadax\u001b[39m\u001b[39m\"\u001b[39m\n\u001b[1;32m----> 3\u001b[0m bitwisepm(string, pat, verbose\u001b[39m=\u001b[39;49m\u001b[39mTrue\u001b[39;49;00m)\n",
      "Cell \u001b[1;32mIn[130], line 11\u001b[0m, in \u001b[0;36mbitwisepm\u001b[1;34m(string, pat, min_alpha, max_alpha, verbose)\u001b[0m\n\u001b[0;32m      9\u001b[0m is_matched \u001b[39m=\u001b[39m \u001b[39mlambda\u001b[39;00m x: ba2int(x\u001b[39m>>\u001b[39m m\u001b[39m-\u001b[39m\u001b[39m1\u001b[39m) \u001b[39m==\u001b[39m\u001b[39m0\u001b[39m\n\u001b[0;32m     10\u001b[0m \u001b[39mfor\u001b[39;00m i \u001b[39min\u001b[39;00m \u001b[39mrange\u001b[39m(m\u001b[39m-\u001b[39m\u001b[39m1\u001b[39m, \u001b[39m-\u001b[39m\u001b[39m1\u001b[39m, \u001b[39m-\u001b[39m\u001b[39m1\u001b[39m):\n\u001b[1;32m---> 11\u001b[0m     char_index \u001b[39m=\u001b[39m \u001b[39mord\u001b[39m(string[i]) \u001b[39m-\u001b[39m \u001b[39mord\u001b[39m(min_alpha)\n\u001b[0;32m     12\u001b[0m     bit_vector \u001b[39m|\u001b[39m\u001b[39m=\u001b[39m bit_matrix[char_index] \u001b[39m<<\u001b[39m (m\u001b[39m-\u001b[39m\u001b[39m1\u001b[39m\u001b[39m-\u001b[39mi)\n\u001b[0;32m     13\u001b[0m \u001b[39mif\u001b[39;00m is_matched(bit_vector):\n",
      "\u001b[1;31mIndexError\u001b[0m: string index out of range"
     ]
    }
   ],
   "source": [
    "string = \"abcdefg\"\n",
    "pat = \"dadax\"\n",
    "bitwisepm(string, pat, verbose=True)"
   ]
  },
  {
   "cell_type": "code",
   "execution_count": 148,
   "metadata": {},
   "outputs": [
    {
     "data": {
      "text/plain": [
       "1"
      ]
     },
     "execution_count": 148,
     "metadata": {},
     "output_type": "execute_result"
    }
   ],
   "source": [
    "a = bitarray('10101')\n",
    "b =bitarray('11010')\n",
    "a[4]\n"
   ]
  },
  {
   "cell_type": "code",
   "execution_count": 81,
   "metadata": {},
   "outputs": [],
   "source": [
    "is_matched = lambda x: ba2int(x>> len(pat)-1) ==0"
   ]
  },
  {
   "cell_type": "code",
   "execution_count": 122,
   "metadata": {},
   "outputs": [
    {
     "data": {
      "text/plain": [
       "122"
      ]
     },
     "execution_count": 122,
     "metadata": {},
     "output_type": "execute_result"
    }
   ],
   "source": [
    "ord('z')"
   ]
  },
  {
   "cell_type": "code",
   "execution_count": 145,
   "metadata": {},
   "outputs": [
    {
     "data": {
      "text/plain": [
       "False"
      ]
     },
     "execution_count": 145,
     "metadata": {},
     "output_type": "execute_result"
    }
   ],
   "source": [
    "s= \"mississippimississippi\"\n",
    "p = \"issi\"\n",
    "s[14:14+4] == p"
   ]
  },
  {
   "cell_type": "code",
   "execution_count": null,
   "metadata": {},
   "outputs": [],
   "source": []
  }
 ],
 "metadata": {
  "kernelspec": {
   "display_name": "Python 3",
   "language": "python",
   "name": "python3"
  },
  "language_info": {
   "codemirror_mode": {
    "name": "ipython",
    "version": 3
   },
   "file_extension": ".py",
   "mimetype": "text/x-python",
   "name": "python",
   "nbconvert_exporter": "python",
   "pygments_lexer": "ipython3",
   "version": "3.10.6"
  },
  "orig_nbformat": 4
 },
 "nbformat": 4,
 "nbformat_minor": 2
}
