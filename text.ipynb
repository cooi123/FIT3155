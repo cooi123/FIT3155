{
 "cells": [
  {
   "cell_type": "code",
   "execution_count": 5,
   "metadata": {},
   "outputs": [
    {
     "name": "stdout",
     "output_type": "stream",
     "text": [
      "Text from 'gutenberg.org_cache_epub_3600_pg3600.txt' has been split into words and saved in 'output.txt'.\n"
     ]
    }
   ],
   "source": [
    "input_file = 'gutenberg.org_cache_epub_3600_pg3600.txt'\n",
    "output_file = 'output.txt'\n",
    "\n",
    "try:\n",
    "    with open(input_file, 'r', encoding='utf-8-sig') as file:\n",
    "        # Read the contents of the file while removing the BOM\n",
    "        content = file.read()\n",
    "\n",
    "    with open(output_file, 'w', encoding='utf-8') as output:\n",
    "        # Split the content into words using spaces as the delimiter\n",
    "        words = content.split()\n",
    "\n",
    "        # Write each word on a separate line\n",
    "        for word in words:\n",
    "            output.write(word + '\\n')\n",
    "\n",
    "    print(f\"Text from '{input_file}' has been split into words and saved in '{output_file}'.\")\n",
    "except FileNotFoundError:\n",
    "    print(f\"The file '{input_file}' was not found.\")\n",
    "except Exception as e:\n",
    "    print(f\"An error occurred: {str(e)}\")\n"
   ]
  },
  {
   "cell_type": "code",
   "execution_count": null,
   "metadata": {},
   "outputs": [],
   "source": []
  }
 ],
 "metadata": {
  "kernelspec": {
   "display_name": "Python 3",
   "language": "python",
   "name": "python3"
  },
  "language_info": {
   "codemirror_mode": {
    "name": "ipython",
    "version": 3
   },
   "file_extension": ".py",
   "mimetype": "text/x-python",
   "name": "python",
   "nbconvert_exporter": "python",
   "pygments_lexer": "ipython3",
   "version": "3.10.6"
  },
  "orig_nbformat": 4
 },
 "nbformat": 4,
 "nbformat_minor": 2
}
