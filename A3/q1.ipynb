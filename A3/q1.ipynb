{
 "cells": [
  {
   "cell_type": "code",
   "execution_count": 47,
   "metadata": {},
   "outputs": [],
   "source": [
    "import random "
   ]
  },
  {
   "cell_type": "code",
   "execution_count": 14,
   "metadata": {},
   "outputs": [
    {
     "data": {
      "text/plain": [
       "'1000110000'"
      ]
     },
     "execution_count": 14,
     "metadata": {},
     "output_type": "execute_result"
    }
   ],
   "source": [
    "bin(560)[2:]"
   ]
  },
  {
   "cell_type": "code",
   "execution_count": 49,
   "metadata": {},
   "outputs": [],
   "source": [
    "def repeated_squaring(n,e,m,verbose=False):\n",
    "    binary_rep = bin(e)[2:]\n",
    "    if verbose:\n",
    "        print(f'binary_rep: {binary_rep}')\n",
    "    current = n % m\n",
    "    result = 1\n",
    "    rever_bin_rep = binary_rep[::-1]\n",
    "\n",
    "    for i in range(1, len(rever_bin_rep)):\n",
    "        current = (current * current) % m\n",
    "        bit = rever_bin_rep[i]\n",
    "        if verbose:\n",
    "            print(f'bit{bit}: {current} * {result} = {current * result}')\n",
    "\n",
    "        if bit == '1':\n",
    "            result = (current * result) % m\n",
    "    return result\n"
   ]
  },
  {
   "cell_type": "code",
   "execution_count": 23,
   "metadata": {},
   "outputs": [
    {
     "data": {
      "text/plain": [
       "49"
      ]
     },
     "execution_count": 23,
     "metadata": {},
     "output_type": "execute_result"
    }
   ],
   "source": [
    "pow(7,2,561)\n"
   ]
  },
  {
   "cell_type": "code",
   "execution_count": 39,
   "metadata": {},
   "outputs": [
    {
     "data": {
      "text/plain": [
       "460"
      ]
     },
     "execution_count": 39,
     "metadata": {},
     "output_type": "execute_result"
    }
   ],
   "source": []
  },
  {
   "cell_type": "code",
   "execution_count": 44,
   "metadata": {},
   "outputs": [
    {
     "name": "stdout",
     "output_type": "stream",
     "text": [
      "binary_rep: 10\n",
      "bit1: 49 * 1 = 49\n"
     ]
    },
    {
     "data": {
      "text/plain": [
       "49"
      ]
     },
     "execution_count": 44,
     "metadata": {},
     "output_type": "execute_result"
    }
   ],
   "source": [
    "repeated_squaring(7,2,561)"
   ]
  },
  {
   "cell_type": "code",
   "execution_count": 50,
   "metadata": {},
   "outputs": [],
   "source": [
    "def miller_rabin(n, k =64, verbose = False):\n",
    "    if n == 2 or n == 3:\n",
    "        return True\n",
    "    if n % 2 == 0:\n",
    "        return False\n",
    "    s = 0\n",
    "    t = n - 1\n",
    "    while t % 2 == 0:\n",
    "        s += 1\n",
    "        t //= 2\n",
    "    if verbose:\n",
    "        print(f'{n-1} = 2^{s} * {t}')\n",
    "    for iter in range(k):\n",
    "        if verbose:\n",
    "            print(f'iteration {iter + 1}')\n",
    "        a = random.randint(2, n - 2)\n",
    "        if verbose:\n",
    "            print(f'selected initial a = {a}')\n",
    "        x = repeated_squaring(a, n-1, n)\n",
    "        if verbose:\n",
    "            print(f'{a}^{t} mod {n} = {x}')\n",
    "        # fermat's little theorem\n",
    "        if x!=1:\n",
    "            return False\n",
    "\n",
    "        prev_x = x\n",
    "        for i in range(1, s):\n",
    "            x = repeated_squaring(x, 2, n)\n",
    "            if verbose:\n",
    "                print(f'a^(2^{i}* t) mod n = {x}')\n",
    "            if x ==1 and (prev_x != 1 and prev_x != n - 1):\n",
    "                return False\n",
    "            prev_x = x\n",
    "        \n",
    "        \n",
    "    return True"
   ]
  },
  {
   "cell_type": "code",
   "execution_count": 51,
   "metadata": {},
   "outputs": [
    {
     "data": {
      "text/plain": [
       "True"
      ]
     },
     "execution_count": 51,
     "metadata": {},
     "output_type": "execute_result"
    }
   ],
   "source": [
    "miller_rabin(8365716791613989772861942045388358081232553912191581584722864677847799376513739395056329608125415084077663148008824840596413995442311527624720757203857774091699321901311304962835620192457103652052711165821832357553512514724893093578396732858246228726660122106070645977626910618709159929466733763629747,64)\n"
   ]
  },
  {
   "cell_type": "code",
   "execution_count": null,
   "metadata": {},
   "outputs": [],
   "source": []
  },
  {
   "cell_type": "code",
   "execution_count": null,
   "metadata": {},
   "outputs": [],
   "source": [
    "mod_exp = lambda x, y, N: pow(x, y, N)\n",
    "def miller_rabin(n, k):\n",
    "    if (n==2 or n==3):\n",
    "        return True\n",
    "    if (n%2 == 0):\n",
    "        return False\n",
    "    s = 0\n",
    "    t = n-1\n",
    "    while (t%2 == 0):\n",
    "        s += 1\n",
    "        t //= 2\n",
    "    for _ in range(k):\n",
    "        a = random.randint(1,n-1)\n",
    "    if (pow(a, n-1, n) != 1):\n",
    "            return False\n",
    "    else:\n",
    "        for i in range(1,s+1):\n",
    "            prev = mod_exp(a, (2**(i-1))*t, n)\n",
    "            if (mod_exp(a, (2**i)*t, n) == 1) and (prev != 1) and (prev != n-1):\n",
    "            # if ((a**((2**i)*t) % n == 1) and (a**((2**(i-1))*t) % n != 1) and (a**((2**(i-1))*t) % n != n-1)):\n",
    "                return False\n",
    "    return True"
   ]
  },
  {
   "cell_type": "code",
   "execution_count": 20,
   "metadata": {},
   "outputs": [
    {
     "ename": "KeyboardInterrupt",
     "evalue": "",
     "output_type": "error",
     "traceback": [
      "\u001b[1;31m---------------------------------------------------------------------------\u001b[0m",
      "\u001b[1;31mKeyboardInterrupt\u001b[0m                         Traceback (most recent call last)",
      "\u001b[1;32mc:\\Users\\Caleb\\OneDrive\\Documents\\FIT3155\\A3\\q1.ipynb Cell 6\u001b[0m line \u001b[0;36m1\n\u001b[1;32m----> <a href='vscode-notebook-cell:/c%3A/Users/Caleb/OneDrive/Documents/FIT3155/A3/q1.ipynb#X14sZmlsZQ%3D%3D?line=0'>1</a>\u001b[0m miller_rabin(\u001b[39m1\u001b[39;49m,\u001b[39m10\u001b[39;49m)\n",
      "\u001b[1;32mc:\\Users\\Caleb\\OneDrive\\Documents\\FIT3155\\A3\\q1.ipynb Cell 6\u001b[0m line \u001b[0;36m8\n\u001b[0;32m      <a href='vscode-notebook-cell:/c%3A/Users/Caleb/OneDrive/Documents/FIT3155/A3/q1.ipynb#X14sZmlsZQ%3D%3D?line=5'>6</a>\u001b[0m s \u001b[39m=\u001b[39m \u001b[39m0\u001b[39m\n\u001b[0;32m      <a href='vscode-notebook-cell:/c%3A/Users/Caleb/OneDrive/Documents/FIT3155/A3/q1.ipynb#X14sZmlsZQ%3D%3D?line=6'>7</a>\u001b[0m t \u001b[39m=\u001b[39m n \u001b[39m-\u001b[39m \u001b[39m1\u001b[39m\n\u001b[1;32m----> <a href='vscode-notebook-cell:/c%3A/Users/Caleb/OneDrive/Documents/FIT3155/A3/q1.ipynb#X14sZmlsZQ%3D%3D?line=7'>8</a>\u001b[0m \u001b[39mwhile\u001b[39;00m t \u001b[39m%\u001b[39;49m \u001b[39m2\u001b[39;49m \u001b[39m==\u001b[39;49m \u001b[39m0\u001b[39;49m:\n\u001b[0;32m      <a href='vscode-notebook-cell:/c%3A/Users/Caleb/OneDrive/Documents/FIT3155/A3/q1.ipynb#X14sZmlsZQ%3D%3D?line=8'>9</a>\u001b[0m     s \u001b[39m+\u001b[39m\u001b[39m=\u001b[39m \u001b[39m1\u001b[39m\n\u001b[0;32m     <a href='vscode-notebook-cell:/c%3A/Users/Caleb/OneDrive/Documents/FIT3155/A3/q1.ipynb#X14sZmlsZQ%3D%3D?line=9'>10</a>\u001b[0m     t \u001b[39m/\u001b[39m\u001b[39m/\u001b[39m\u001b[39m=\u001b[39m \u001b[39m2\u001b[39m\n",
      "\u001b[1;31mKeyboardInterrupt\u001b[0m: "
     ]
    }
   ],
   "source": [
    "miller_rabin(1,10)"
   ]
  },
  {
   "cell_type": "code",
   "execution_count": 44,
   "metadata": {},
   "outputs": [],
   "source": [
    "def gen_prime(n, k=64):\n",
    "    while True:\n",
    "        p = random.getrandbits(n)\n",
    "        if miller_rabin(p, k):\n",
    "            return p"
   ]
  },
  {
   "cell_type": "code",
   "execution_count": 47,
   "metadata": {},
   "outputs": [
    {
     "data": {
      "text/plain": [
       "715042907"
      ]
     },
     "execution_count": 47,
     "metadata": {},
     "output_type": "execute_result"
    }
   ],
   "source": [
    "gen_prime(32)"
   ]
  },
  {
   "cell_type": "code",
   "execution_count": 59,
   "metadata": {},
   "outputs": [],
   "source": [
    "def n_bit_prime_multiplication(n):\n",
    "    p = gen_prime(n)\n",
    "    q = gen_prime(n)\n",
    "    return (p,q), karatsuba_multiplication(p, q)\n"
   ]
  },
  {
   "cell_type": "code",
   "execution_count": 61,
   "metadata": {},
   "outputs": [
    {
     "data": {
      "text/plain": [
       "1727341955605729189"
      ]
     },
     "execution_count": 61,
     "metadata": {},
     "output_type": "execute_result"
    }
   ],
   "source": [
    "1828045759 *944911771"
   ]
  },
  {
   "cell_type": "code",
   "execution_count": 60,
   "metadata": {},
   "outputs": [
    {
     "data": {
      "text/plain": [
       "((1828045759, 944911771), 1727341955605729189)"
      ]
     },
     "execution_count": 60,
     "metadata": {},
     "output_type": "execute_result"
    }
   ],
   "source": [
    "n_bit_prime_multiplication(32)"
   ]
  },
  {
   "cell_type": "code",
   "execution_count": 3,
   "metadata": {},
   "outputs": [],
   "source": [
    "read_file = open(\"prime.csv\", \"r\")\n",
    "primes =read_file.readlines()\n",
    "primes = [int(i) for i in primes]\n",
    "read_file.close()"
   ]
  },
  {
   "cell_type": "code",
   "execution_count": 32,
   "metadata": {},
   "outputs": [
    {
     "name": "stdout",
     "output_type": "stream",
     "text": [
      "error rate: 0.0\n"
     ]
    }
   ],
   "source": [
    "\n",
    "error=0\n",
    "for p in primes:\n",
    "    if not miller_rabin(p, 10):\n",
    "        error+=1\n",
    "print(f'error rate: {error/len(primes)}')"
   ]
  },
  {
   "cell_type": "code",
   "execution_count": 41,
   "metadata": {},
   "outputs": [
    {
     "name": "stdout",
     "output_type": "stream",
     "text": [
      "number of prime 9592\n"
     ]
    }
   ],
   "source": [
    "isPrime =[miller_rabin(i,64) for i in range(2,100000)]\n",
    "\n",
    "print(f'number of prime {isPrime.count(True)}')\n",
    "# [i for i in range(2, 101) if miller_rabin(i)]\n",
    "\n",
    "    \n"
   ]
  },
  {
   "cell_type": "code",
   "execution_count": 14,
   "metadata": {},
   "outputs": [],
   "source": [
    "def karatsuba_multiplication(a,b):\n",
    "    #base case single digit multiplication\n",
    "    if a < 10 and b < 10:\n",
    "        return a*b\n",
    "    num_digits = max(len(str(a)), len(str(b)))\n",
    "    m = num_digits//2\n",
    "\n",
    "    u1 = a // 10**m\n",
    "    u0 = a % 10**m\n",
    "    v1 = b // 10**m\n",
    "    v0 = b % 10**m\n",
    "\n",
    "    print(f'u1: {u1}, u0: {u0}, v1: {v1}, v0: {v0}')\n",
    "\n",
    "    z0 = karatsuba_multiplication(u0, v0)\n",
    "    z1 = karatsuba_multiplication(u0,v1)\n",
    "    z2 = karatsuba_multiplication(u1,v0)\n",
    "    z3 = karatsuba_multiplication(u1, v1)\n",
    "\n",
    "    print(f'z0: {z0}, z1: {z1}, z2: {z2}, z3: {z3}')\n",
    "    return z3*10**(2*m) + (z1+z2)*10**m + z0\n",
    "\n",
    "\n",
    "\n",
    "\n",
    "    "
   ]
  },
  {
   "cell_type": "code",
   "execution_count": 15,
   "metadata": {},
   "outputs": [
    {
     "name": "stdout",
     "output_type": "stream",
     "text": [
      "u1: 11, u0: 1, v1: 32, v0: 5\n",
      "u1: 0, u0: 1, v1: 3, v0: 2\n",
      "z0: 2, z1: 3, z2: 0, z3: 0\n",
      "u1: 1, u0: 1, v1: 0, v0: 5\n",
      "z0: 5, z1: 0, z2: 5, z3: 0\n",
      "u1: 1, u0: 1, v1: 3, v0: 2\n",
      "z0: 2, z1: 3, z2: 2, z3: 3\n",
      "z0: 5, z1: 32, z2: 55, z3: 352\n"
     ]
    },
    {
     "data": {
      "text/plain": [
       "36075"
      ]
     },
     "execution_count": 15,
     "metadata": {},
     "output_type": "execute_result"
    }
   ],
   "source": [
    "karatsuba_multiplication(111,325)"
   ]
  },
  {
   "cell_type": "code",
   "execution_count": 10,
   "metadata": {},
   "outputs": [
    {
     "data": {
      "text/plain": [
       "16235189525560"
      ]
     },
     "execution_count": 10,
     "metadata": {},
     "output_type": "execute_result"
    }
   ],
   "source": [
    "1569340 * 10345234"
   ]
  },
  {
   "cell_type": "code",
   "execution_count": null,
   "metadata": {},
   "outputs": [],
   "source": []
  }
 ],
 "metadata": {
  "kernelspec": {
   "display_name": "Python 3",
   "language": "python",
   "name": "python3"
  },
  "language_info": {
   "codemirror_mode": {
    "name": "ipython",
    "version": 3
   },
   "file_extension": ".py",
   "mimetype": "text/x-python",
   "name": "python",
   "nbconvert_exporter": "python",
   "pygments_lexer": "ipython3",
   "version": "3.10.6"
  }
 },
 "nbformat": 4,
 "nbformat_minor": 2
}
