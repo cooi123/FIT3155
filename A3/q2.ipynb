{
 "cells": [
  {
   "cell_type": "code",
   "execution_count": 1,
   "metadata": {},
   "outputs": [],
   "source": [
    "from bitarray import bitarray"
   ]
  },
  {
   "cell_type": "code",
   "execution_count": 2,
   "metadata": {},
   "outputs": [],
   "source": [
    "def int_to_bitarray(n, length=8):\n",
    "    return bitarray(bin(n)[2:])"
   ]
  },
  {
   "cell_type": "code",
   "execution_count": null,
   "metadata": {},
   "outputs": [],
   "source": [
    "def elias_omega_encoding(n:int, verbose =False)->bitarray:\n",
    "    def length_encoding(n, bitvalues= bitarray('')):\n",
    "        if n ==1:\n",
    "            return bitvalues\n",
    "        else:\n",
    "            \n",
    "            bit_repr = int_to_bitarray(n-1)\n",
    "            bit_repr[0]=0\n",
    "            if verbose:\n",
    "                print(f\"n={n}, bit_repr={bit_repr}\")\n",
    "            return length_encoding(len(bit_repr), bit_repr+bitvalues)\n",
    "    bit_repr = int_to_bitarray(n)\n",
    "    if verbose:\n",
    "        print(f'val ={n}, bit_repr={bit_repr}')\n",
    "    return length_encoding(len(bit_repr), bit_repr) \n",
    "\n",
    "\n",
    "\n"
   ]
  },
  {
   "cell_type": "code",
   "execution_count": null,
   "metadata": {},
   "outputs": [],
   "source": [
    "elias_omega_encoding(3+1, verbose=True)"
   ]
  },
  {
   "cell_type": "code",
   "execution_count": 3,
   "metadata": {},
   "outputs": [],
   "source": [
    "class Tree():\n",
    "    def __init__(self,val,occurance, left, right):\n",
    "        self.val = val\n",
    "        self.occurance =occurance\n",
    "        self.left = left\n",
    "        self.right = right\n"
   ]
  },
  {
   "cell_type": "code",
   "execution_count": null,
   "metadata": {},
   "outputs": [],
   "source": [
    "text = \"A_DEAD_DAD_CEDED_A_BAD_BABE_A_BEADED_ABACA_BED\"\n",
    "unique = {char: text.count(char) for char in text}\n",
    "unique = [(val, key) for key, val in unique.items()]\n",
    "print(unique)\n",
    "heapq.heapify(unique)\n",
    "heapq.heappop(unique)\n",
    "heapq.heappop(unique)\n",
    "heapq.heappush(unique, (1, None))\n",
    "print(unique)\n"
   ]
  },
  {
   "cell_type": "code",
   "execution_count": 19,
   "metadata": {},
   "outputs": [],
   "source": [
    "import heapq \n",
    "def huffman_encoding(n, verbose=False):\n",
    "    unique_char_occurance = {char: n.count(char) for char in n}\n",
    "    queue = [(val, key,None) for key, val in unique_char_occurance.items()]\n",
    "    heapq.heapify(queue)\n",
    "    if verbose:\n",
    "        print(f\"occurance={queue}\")\n",
    "\n",
    "    while len(queue) > 1:\n",
    "        left = heapq.heappop(queue)\n",
    "        right = heapq.heappop(queue)\n",
    "\n",
    "        heapq.heappush(queue, (left[0]+right[0],left[1]+right[1] ,Tree(left[1]+right[1], left[0]+right[0], left, right)))\n",
    "    return queue[0][2]\n",
    "\n",
    "# def travese_tree(tree, code, verbose=False):\n",
    "#     if verbose:\n",
    "#         print(f\"tree={tree}, code={code}\")\n",
    "#     if tree.val is not None:\n",
    "#         return [(tree.val, code)]\n",
    "#     else:\n",
    "#         return travese_tree(tree.left, code+'0')+travese_tree(tree.right, code+'1')\n",
    "\n",
    "    "
   ]
  },
  {
   "cell_type": "code",
   "execution_count": 21,
   "metadata": {},
   "outputs": [
    {
     "name": "stdout",
     "output_type": "stream",
     "text": [
      "occurance=[(2, 'C', None), (7, 'E', None), (6, 'B', None), (11, 'A', None), (10, '_', None), (10, 'D', None)]\n"
     ]
    },
    {
     "data": {
      "text/plain": [
       "<__main__.Tree at 0x24debdc7c70>"
      ]
     },
     "execution_count": 21,
     "metadata": {},
     "output_type": "execute_result"
    }
   ],
   "source": [
    "text = \"A_DEAD_DAD_CEDED_A_BAD_BABE_A_BEADED_ABACA_BED\"\n",
    "huffman_encoding(text, verbose=True)"
   ]
  },
  {
   "cell_type": "code",
   "execution_count": null,
   "metadata": {},
   "outputs": [],
   "source": []
  }
 ],
 "metadata": {
  "kernelspec": {
   "display_name": "Python 3",
   "language": "python",
   "name": "python3"
  },
  "language_info": {
   "codemirror_mode": {
    "name": "ipython",
    "version": 3
   },
   "file_extension": ".py",
   "mimetype": "text/x-python",
   "name": "python",
   "nbconvert_exporter": "python",
   "pygments_lexer": "ipython3",
   "version": "3.10.6"
  }
 },
 "nbformat": 4,
 "nbformat_minor": 2
}
